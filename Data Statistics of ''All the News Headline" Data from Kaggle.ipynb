{
 "cells": [
  {
   "cell_type": "markdown",
   "metadata": {},
   "source": [
    "## Headline Data Stats : "
   ]
  },
  {
   "cell_type": "code",
   "execution_count": 9,
   "metadata": {},
   "outputs": [],
   "source": [
    "# Reading Headline Data From txt\n",
    "with open('clean_head.txt') as head:\n",
    "    x=head.readlines()\n",
    "\n",
    "count=0\n",
    "hist=[]\n",
    "vocab=[]\n",
    "for line in x:\n",
    "    m=line.split()\n",
    "    vocab.extend(m)\n",
    "    ll=len(m)\n",
    "    count+=ll\n",
    "    hist.append(ll)"
   ]
  },
  {
   "cell_type": "code",
   "execution_count": 10,
   "metadata": {},
   "outputs": [
    {
     "data": {
      "image/png": "[encoded data removed]",
      "text/plain": [
       "<Figure size 432x288 with 1 Axes>"
      ]
     },
     "metadata": {
      "needs_background": "light"
     },
     "output_type": "display_data"
    }
   ],
   "source": [
    "# Distribution of Words\n",
    "import matplotlib.pyplot as plt\n",
    "import numpy as np\n",
    "plt.hist(np.sort(hist),bins=20)\n",
    "plt.title(\"Distribution of Words in Headlines\")\n",
    "plt.xlabel(\"No of words:\")\n",
    "plt.ylabel(\"No of Articles:\")\n",
    "plt.savefig(\"headline.png\")\n",
    "plt.show()"
   ]
  },
  {
   "cell_type": "code",
   "execution_count": 11,
   "metadata": {},
   "outputs": [
    {
     "name": "stdout",
     "output_type": "stream",
     "text": [
      "Headline Data Statistics :\n",
      "Total no of Documents       :  183026\n",
      "Total no of words           :  1787181\n",
      "Total no of Unique words    :  48629\n",
      "Average words per headline  :  9.764629069094008\n"
     ]
    }
   ],
   "source": [
    "print(\"Headline Data Statistics :\")\n",
    "print(\"Total no of Documents       : \", len(hist))\n",
    "print(\"Total no of words           : \", len(vocab))\n",
    "print(\"Total no of Unique words    : \", len(set(vocab)))\n",
    "print(\"Average words per headline  : \", len(vocab)/len(hist))\n"
   ]
  },
  {
   "cell_type": "markdown",
   "metadata": {},
   "source": [
    "## Article Data Stats :"
   ]
  },
  {
   "cell_type": "code",
   "execution_count": 12,
   "metadata": {},
   "outputs": [],
   "source": [
    "# Reading Headline Data From txt\n",
    "with open('clean_art.txt') as head:\n",
    "    y=head.readlines()\n",
    "\n",
    "count=0\n",
    "hist=[]\n",
    "vocab=[]\n",
    "for line in y:\n",
    "    m=line.split()\n",
    "    vocab.extend(m)\n",
    "    ll=len(m)\n",
    "    count+=ll\n",
    "    hist.append(ll)"
   ]
  },
  {
   "cell_type": "code",
   "execution_count": 13,
   "metadata": {},
   "outputs": [
    {
     "data": {
      "image/png": "[encoded data removed]",
      "text/plain": [
       "<Figure size 432x288 with 1 Axes>"
      ]
     },
     "metadata": {
      "needs_background": "light"
     },
     "output_type": "display_data"
    }
   ],
   "source": [
    "# Distribution of Words\n",
    "import matplotlib.pyplot as plt\n",
    "import numpy as np\n",
    "plt.hist(np.sort(hist),bins=20)\n",
    "plt.title(\"Distribution of Words in Articles\")\n",
    "plt.xlabel(\"No of words:\")\n",
    "plt.ylabel(\"No of Articles:\")\n",
    "plt.savefig(\"articles.png\")\n",
    "plt.show()"
   ]
  },
  {
   "cell_type": "code",
   "execution_count": 14,
   "metadata": {},
   "outputs": [
    {
     "name": "stdout",
     "output_type": "stream",
     "text": [
      "Article Data Statistics :\n",
      "Total no of Documents       :  183026\n",
      "Total no of words           :  147870869\n",
      "Total no of Unique words    :  675061\n",
      "Average words per Article  :  807.9227486805154\n"
     ]
    }
   ],
   "source": [
    "print(\"Article Data Statistics :\")\n",
    "print(\"Total no of Documents       : \", len(hist))\n",
    "print(\"Total no of words           : \", len(vocab))\n",
    "print(\"Total no of Unique words    : \", len(set(vocab)))\n",
    "print(\"Average words per Article  : \", len(vocab)/len(hist))\n"
   ]
  },
  {
   "cell_type": "code",
   "execution_count": 97,
   "metadata": {},
   "outputs": [],
   "source": [
    "from sklearn.model_selection import train_test_split"
   ]
  },
  {
   "cell_type": "code",
   "execution_count": 98,
   "metadata": {},
   "outputs": [],
   "source": [
    "X_train,x_test,Y_train,y_test=train_test_split(y,x,test_size=0.005462,random_state=42)"
   ]
  },
  {
   "cell_type": "code",
   "execution_count": 99,
   "metadata": {},
   "outputs": [
    {
     "data": {
      "text/plain": [
       "1000"
      ]
     },
     "execution_count": 99,
     "metadata": {},
     "output_type": "execute_result"
    }
   ],
   "source": [
    "len(y_test)"
   ]
  },
  {
   "cell_type": "code",
   "execution_count": 122,
   "metadata": {},
   "outputs": [],
   "source": [
    "x_train,x_val,y_train,y_val=train_test_split(X_train,Y_train,test_size=0.01648,random_state=42)"
   ]
  },
  {
   "cell_type": "code",
   "execution_count": 123,
   "metadata": {},
   "outputs": [
    {
     "data": {
      "text/plain": [
       "3000"
      ]
     },
     "execution_count": 123,
     "metadata": {},
     "output_type": "execute_result"
    }
   ],
   "source": [
    "len(x_val)"
   ]
  },
  {
   "cell_type": "code",
   "execution_count": 126,
   "metadata": {},
   "outputs": [
    {
     "data": {
      "text/plain": [
       "'review new tick on amazon not like the old tick\\n'"
      ]
     },
     "execution_count": 126,
     "metadata": {},
     "output_type": "execute_result"
    }
   ],
   "source": [
    "y_val[3]"
   ]
  },
  {
   "cell_type": "code",
   "execution_count": 127,
   "metadata": {},
   "outputs": [
    {
     "data": {
      "text/plain": [
       "179026"
      ]
     },
     "execution_count": 127,
     "metadata": {},
     "output_type": "execute_result"
    }
   ],
   "source": [
    "len(x_train)"
   ]
  },
  {
   "cell_type": "code",
   "execution_count": 129,
   "metadata": {},
   "outputs": [],
   "source": [
    "with open(\"src-train.txt\",'w') as tr:\n",
    "    for line in x_train:\n",
    "        tr.write(line)"
   ]
  },
  {
   "cell_type": "code",
   "execution_count": 130,
   "metadata": {},
   "outputs": [],
   "source": [
    "with open(\"src-test.txt\",'w') as tr:\n",
    "    for line in x_test:\n",
    "        tr.write(line)"
   ]
  },
  {
   "cell_type": "code",
   "execution_count": 131,
   "metadata": {},
   "outputs": [],
   "source": [
    "with open(\"src-val.txt\",'w') as tr:\n",
    "    for line in x_val:\n",
    "        tr.write(line)"
   ]
  },
  {
   "cell_type": "code",
   "execution_count": 132,
   "metadata": {},
   "outputs": [],
   "source": [
    "with open(\"tgt-train.txt\",'w') as tr:\n",
    "    for line in y_train:\n",
    "        tr.write(line)"
   ]
  },
  {
   "cell_type": "code",
   "execution_count": 133,
   "metadata": {},
   "outputs": [],
   "source": [
    "with open(\"tgt-test.txt\",'w') as tr:\n",
    "    for line in y_test:\n",
    "        tr.write(line)"
   ]
  },
  {
   "cell_type": "code",
   "execution_count": 134,
   "metadata": {},
   "outputs": [],
   "source": [
    "with open(\"tgt-val.txt\",'w') as tr:\n",
    "    for line in y_val:\n",
    "        tr.write(line)"
   ]
  },
  {
   "cell_type": "code",
   "execution_count": null,
   "metadata": {},
   "outputs": [],
   "source": []
  }
 ],
 "metadata": {
  "kernelspec": {
   "display_name": "Python 3",
   "language": "python",
   "name": "python3"
  },
  "language_info": {
   "codemirror_mode": {
    "name": "ipython",
    "version": 3
   },
   "file_extension": ".py",
   "mimetype": "text/x-python",
   "name": "python",
   "nbconvert_exporter": "python",
   "pygments_lexer": "ipython3",
   "version": "3.6.5"
  }
 },
 "nbformat": 4,
 "nbformat_minor": 2
}
